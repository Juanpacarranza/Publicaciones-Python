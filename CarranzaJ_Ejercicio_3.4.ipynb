{
 "cells": [
  {
   "cell_type": "markdown",
   "metadata": {},
   "source": [
    "# Macros"
   ]
  },
  {
   "cell_type": "code",
   "execution_count": 1,
   "metadata": {},
   "outputs": [],
   "source": [
    "PATH_NAME = '../Data/'\n",
    "FILE_NAME1 = 'log_NewUsers.log'\n",
    "FILE_NAME2 = 'log_Purchases.log'"
   ]
  },
  {
   "cell_type": "markdown",
   "metadata": {},
   "source": [
    "# Importación de librerias"
   ]
  },
  {
   "cell_type": "code",
   "execution_count": 2,
   "metadata": {},
   "outputs": [],
   "source": [
    "import pandas as pd\n",
    "import numpy as np\n",
    "import json\n",
    "import requests as rq\n",
    "from datetime import datetime"
   ]
  },
  {
   "cell_type": "markdown",
   "metadata": {},
   "source": [
    "# Construcción del Dataframe"
   ]
  },
  {
   "cell_type": "code",
   "execution_count": 3,
   "metadata": {},
   "outputs": [
    {
     "data": {
      "text/html": [
       "<div>\n",
       "<style scoped>\n",
       "    .dataframe tbody tr th:only-of-type {\n",
       "        vertical-align: middle;\n",
       "    }\n",
       "\n",
       "    .dataframe tbody tr th {\n",
       "        vertical-align: top;\n",
       "    }\n",
       "\n",
       "    .dataframe thead th {\n",
       "        text-align: right;\n",
       "    }\n",
       "</style>\n",
       "<table border=\"1\" class=\"dataframe\">\n",
       "  <thead>\n",
       "    <tr style=\"text-align: right;\">\n",
       "      <th></th>\n",
       "      <th>client_mobile_device</th>\n",
       "      <th>client_mobile_os</th>\n",
       "      <th>datetime</th>\n",
       "      <th>ip_country</th>\n",
       "      <th>platform</th>\n",
       "      <th>user_id</th>\n",
       "      <th>version</th>\n",
       "      <th>app_code</th>\n",
       "      <th>app_name</th>\n",
       "    </tr>\n",
       "  </thead>\n",
       "  <tbody>\n",
       "    <tr>\n",
       "      <th>0</th>\n",
       "      <td>iPad7,5</td>\n",
       "      <td>12.2</td>\n",
       "      <td>2021-01-01 03:13:35</td>\n",
       "      <td>AU</td>\n",
       "      <td>ios</td>\n",
       "      <td>gNdE4JGZuXoItNygPSkB</td>\n",
       "      <td>1.17.2-1804790697</td>\n",
       "      <td>st</td>\n",
       "      <td>Slow Traffic</td>\n",
       "    </tr>\n",
       "    <tr>\n",
       "      <th>1</th>\n",
       "      <td>samsung SM-G531BT</td>\n",
       "      <td>5.1.1</td>\n",
       "      <td>2021-01-02 20:30:43</td>\n",
       "      <td>BR</td>\n",
       "      <td>android</td>\n",
       "      <td>qn0F6bsizLuvnPBF9oj7</td>\n",
       "      <td>1.17.3-1804790685</td>\n",
       "      <td>st</td>\n",
       "      <td>Slow Traffic</td>\n",
       "    </tr>\n",
       "    <tr>\n",
       "      <th>2</th>\n",
       "      <td>LGE LM-X210</td>\n",
       "      <td>7.1.2</td>\n",
       "      <td>2021-01-04 04:37:39</td>\n",
       "      <td>BR</td>\n",
       "      <td>android</td>\n",
       "      <td>UCcF1MeTykbc3Tw3ZMLO</td>\n",
       "      <td>1.17.3-1804790685</td>\n",
       "      <td>st</td>\n",
       "      <td>Slow Traffic</td>\n",
       "    </tr>\n",
       "    <tr>\n",
       "      <th>3</th>\n",
       "      <td>HUAWEI MYA-U29</td>\n",
       "      <td>6.0</td>\n",
       "      <td>2021-01-05 18:10:40</td>\n",
       "      <td>LK</td>\n",
       "      <td>android</td>\n",
       "      <td>tgI4d8m6C9NZBKSzvKe5</td>\n",
       "      <td>1.17.3-1804790685</td>\n",
       "      <td>st</td>\n",
       "      <td>Slow Traffic</td>\n",
       "    </tr>\n",
       "    <tr>\n",
       "      <th>4</th>\n",
       "      <td>iPhone9,3</td>\n",
       "      <td>13.3.1</td>\n",
       "      <td>2021-01-07 13:18:20</td>\n",
       "      <td>AU</td>\n",
       "      <td>ios</td>\n",
       "      <td>HFT8rkq8qkRN1bGDRjA5</td>\n",
       "      <td>1.17.2-1804790697</td>\n",
       "      <td>st</td>\n",
       "      <td>Slow Traffic</td>\n",
       "    </tr>\n",
       "    <tr>\n",
       "      <th>...</th>\n",
       "      <td>...</td>\n",
       "      <td>...</td>\n",
       "      <td>...</td>\n",
       "      <td>...</td>\n",
       "      <td>...</td>\n",
       "      <td>...</td>\n",
       "      <td>...</td>\n",
       "      <td>...</td>\n",
       "      <td>...</td>\n",
       "    </tr>\n",
       "    <tr>\n",
       "      <th>102936</th>\n",
       "      <td>HUAWEI STK-LX3</td>\n",
       "      <td>10</td>\n",
       "      <td>2021-02-28 21:07:24</td>\n",
       "      <td>CL</td>\n",
       "      <td>android</td>\n",
       "      <td>x264D6C0FYLdZPjTyFdl</td>\n",
       "      <td>3.2.3-1804795535</td>\n",
       "      <td>fw</td>\n",
       "      <td>Find The Word</td>\n",
       "    </tr>\n",
       "    <tr>\n",
       "      <th>102937</th>\n",
       "      <td>HUAWEI MRD-LX3</td>\n",
       "      <td>9</td>\n",
       "      <td>2021-02-28 21:48:17</td>\n",
       "      <td>CL</td>\n",
       "      <td>android</td>\n",
       "      <td>qWBT7gihmGdgUDBfHXEa</td>\n",
       "      <td>3.2.3-1804795535</td>\n",
       "      <td>fw</td>\n",
       "      <td>Find The Word</td>\n",
       "    </tr>\n",
       "    <tr>\n",
       "      <th>102938</th>\n",
       "      <td>Mintt ULTRAMINTT X3</td>\n",
       "      <td>9</td>\n",
       "      <td>2021-02-28 22:44:44</td>\n",
       "      <td>AU</td>\n",
       "      <td>android</td>\n",
       "      <td>iGmtqxqjBqEBZCDm0FRS</td>\n",
       "      <td>3.2.3-1804795535</td>\n",
       "      <td>fw</td>\n",
       "      <td>Find The Word</td>\n",
       "    </tr>\n",
       "    <tr>\n",
       "      <th>102939</th>\n",
       "      <td>samsung SM-G610M</td>\n",
       "      <td>8.1.0</td>\n",
       "      <td>2021-02-28 23:08:53</td>\n",
       "      <td>CL</td>\n",
       "      <td>android</td>\n",
       "      <td>MoDg1M1e3H03Qnt7Qch5</td>\n",
       "      <td>3.2.3-1804795535</td>\n",
       "      <td>fw</td>\n",
       "      <td>Find The Word</td>\n",
       "    </tr>\n",
       "    <tr>\n",
       "      <th>102940</th>\n",
       "      <td>HUAWEI YAL-L21</td>\n",
       "      <td>10</td>\n",
       "      <td>2021-02-28 23:36:16</td>\n",
       "      <td>ZA</td>\n",
       "      <td>android</td>\n",
       "      <td>NMC3AA7lHPoTZgMkF7yE</td>\n",
       "      <td>3.2.3-1804795535</td>\n",
       "      <td>fw</td>\n",
       "      <td>Find The Word</td>\n",
       "    </tr>\n",
       "  </tbody>\n",
       "</table>\n",
       "<p>102941 rows × 9 columns</p>\n",
       "</div>"
      ],
      "text/plain": [
       "       client_mobile_device client_mobile_os            datetime ip_country  \\\n",
       "0                   iPad7,5             12.2 2021-01-01 03:13:35         AU   \n",
       "1         samsung SM-G531BT            5.1.1 2021-01-02 20:30:43         BR   \n",
       "2               LGE LM-X210            7.1.2 2021-01-04 04:37:39         BR   \n",
       "3            HUAWEI MYA-U29              6.0 2021-01-05 18:10:40         LK   \n",
       "4                 iPhone9,3           13.3.1 2021-01-07 13:18:20         AU   \n",
       "...                     ...              ...                 ...        ...   \n",
       "102936       HUAWEI STK-LX3               10 2021-02-28 21:07:24         CL   \n",
       "102937       HUAWEI MRD-LX3                9 2021-02-28 21:48:17         CL   \n",
       "102938  Mintt ULTRAMINTT X3                9 2021-02-28 22:44:44         AU   \n",
       "102939     samsung SM-G610M            8.1.0 2021-02-28 23:08:53         CL   \n",
       "102940       HUAWEI YAL-L21               10 2021-02-28 23:36:16         ZA   \n",
       "\n",
       "       platform               user_id            version app_code  \\\n",
       "0           ios  gNdE4JGZuXoItNygPSkB  1.17.2-1804790697       st   \n",
       "1       android  qn0F6bsizLuvnPBF9oj7  1.17.3-1804790685       st   \n",
       "2       android  UCcF1MeTykbc3Tw3ZMLO  1.17.3-1804790685       st   \n",
       "3       android  tgI4d8m6C9NZBKSzvKe5  1.17.3-1804790685       st   \n",
       "4           ios  HFT8rkq8qkRN1bGDRjA5  1.17.2-1804790697       st   \n",
       "...         ...                   ...                ...      ...   \n",
       "102936  android  x264D6C0FYLdZPjTyFdl   3.2.3-1804795535       fw   \n",
       "102937  android  qWBT7gihmGdgUDBfHXEa   3.2.3-1804795535       fw   \n",
       "102938  android  iGmtqxqjBqEBZCDm0FRS   3.2.3-1804795535       fw   \n",
       "102939  android  MoDg1M1e3H03Qnt7Qch5   3.2.3-1804795535       fw   \n",
       "102940  android  NMC3AA7lHPoTZgMkF7yE   3.2.3-1804795535       fw   \n",
       "\n",
       "             app_name  \n",
       "0        Slow Traffic  \n",
       "1        Slow Traffic  \n",
       "2        Slow Traffic  \n",
       "3        Slow Traffic  \n",
       "4        Slow Traffic  \n",
       "...               ...  \n",
       "102936  Find The Word  \n",
       "102937  Find The Word  \n",
       "102938  Find The Word  \n",
       "102939  Find The Word  \n",
       "102940  Find The Word  \n",
       "\n",
       "[102941 rows x 9 columns]"
      ]
     },
     "execution_count": 3,
     "metadata": {},
     "output_type": "execute_result"
    }
   ],
   "source": [
    "fn1 = open(PATH_NAME+FILE_NAME1,'r')\n",
    "js1 = fn1.read()\n",
    "newusers = pd.read_json(js1)\n",
    "newusers"
   ]
  },
  {
   "cell_type": "code",
   "execution_count": 4,
   "metadata": {},
   "outputs": [
    {
     "data": {
      "text/html": [
       "<div>\n",
       "<style scoped>\n",
       "    .dataframe tbody tr th:only-of-type {\n",
       "        vertical-align: middle;\n",
       "    }\n",
       "\n",
       "    .dataframe tbody tr th {\n",
       "        vertical-align: top;\n",
       "    }\n",
       "\n",
       "    .dataframe thead th {\n",
       "        text-align: right;\n",
       "    }\n",
       "</style>\n",
       "<table border=\"1\" class=\"dataframe\">\n",
       "  <thead>\n",
       "    <tr style=\"text-align: right;\">\n",
       "      <th></th>\n",
       "      <th>datetime</th>\n",
       "      <th>game_basic_level</th>\n",
       "      <th>ip_country</th>\n",
       "      <th>order_amount_gross</th>\n",
       "      <th>order_payment_provider</th>\n",
       "      <th>order_transaction_id</th>\n",
       "      <th>platform</th>\n",
       "      <th>user_id</th>\n",
       "      <th>version</th>\n",
       "      <th>app_code</th>\n",
       "      <th>app_name</th>\n",
       "      <th>currency</th>\n",
       "    </tr>\n",
       "  </thead>\n",
       "  <tbody>\n",
       "    <tr>\n",
       "      <th>0</th>\n",
       "      <td>2021-01-24 04:05:34</td>\n",
       "      <td>7</td>\n",
       "      <td>CL</td>\n",
       "      <td>35.446176</td>\n",
       "      <td>Itunes</td>\n",
       "      <td>1184529158</td>\n",
       "      <td>ios</td>\n",
       "      <td>23zBzzPT2thJHJb4ZMwl</td>\n",
       "      <td>1.17.4-1804792971</td>\n",
       "      <td>st</td>\n",
       "      <td>Slow Traffic</td>\n",
       "      <td>EUR</td>\n",
       "    </tr>\n",
       "    <tr>\n",
       "      <th>1</th>\n",
       "      <td>2021-01-24 06:00:35</td>\n",
       "      <td>9</td>\n",
       "      <td>CL</td>\n",
       "      <td>6.569976</td>\n",
       "      <td>Itunes</td>\n",
       "      <td>774979105</td>\n",
       "      <td>ios</td>\n",
       "      <td>23zBzzPT2thJHJb4ZMwl</td>\n",
       "      <td>1.17.4-1804792971</td>\n",
       "      <td>st</td>\n",
       "      <td>Slow Traffic</td>\n",
       "      <td>CHF</td>\n",
       "    </tr>\n",
       "    <tr>\n",
       "      <th>2</th>\n",
       "      <td>2021-01-24 07:04:58</td>\n",
       "      <td>10</td>\n",
       "      <td>CL</td>\n",
       "      <td>29.010654</td>\n",
       "      <td>Itunes</td>\n",
       "      <td>7793447456</td>\n",
       "      <td>ios</td>\n",
       "      <td>23zBzzPT2thJHJb4ZMwl</td>\n",
       "      <td>1.17.4-1804792971</td>\n",
       "      <td>st</td>\n",
       "      <td>Slow Traffic</td>\n",
       "      <td>USD</td>\n",
       "    </tr>\n",
       "    <tr>\n",
       "      <th>3</th>\n",
       "      <td>2021-01-25 04:28:21</td>\n",
       "      <td>12</td>\n",
       "      <td>CL</td>\n",
       "      <td>10.685374</td>\n",
       "      <td>Itunes</td>\n",
       "      <td>3111804466</td>\n",
       "      <td>ios</td>\n",
       "      <td>23zBzzPT2thJHJb4ZMwl</td>\n",
       "      <td>1.17.4-1804792971</td>\n",
       "      <td>st</td>\n",
       "      <td>Slow Traffic</td>\n",
       "      <td>USD</td>\n",
       "    </tr>\n",
       "    <tr>\n",
       "      <th>4</th>\n",
       "      <td>2021-01-25 04:43:59</td>\n",
       "      <td>12</td>\n",
       "      <td>CL</td>\n",
       "      <td>5.367659</td>\n",
       "      <td>Itunes</td>\n",
       "      <td>4652947566</td>\n",
       "      <td>ios</td>\n",
       "      <td>23zBzzPT2thJHJb4ZMwl</td>\n",
       "      <td>1.17.4-1804792971</td>\n",
       "      <td>st</td>\n",
       "      <td>Slow Traffic</td>\n",
       "      <td>GBP</td>\n",
       "    </tr>\n",
       "    <tr>\n",
       "      <th>...</th>\n",
       "      <td>...</td>\n",
       "      <td>...</td>\n",
       "      <td>...</td>\n",
       "      <td>...</td>\n",
       "      <td>...</td>\n",
       "      <td>...</td>\n",
       "      <td>...</td>\n",
       "      <td>...</td>\n",
       "      <td>...</td>\n",
       "      <td>...</td>\n",
       "      <td>...</td>\n",
       "      <td>...</td>\n",
       "    </tr>\n",
       "    <tr>\n",
       "      <th>2856</th>\n",
       "      <td>2021-01-17 22:48:13</td>\n",
       "      <td>10</td>\n",
       "      <td>VE</td>\n",
       "      <td>22.575198</td>\n",
       "      <td>Itunes</td>\n",
       "      <td>9465335020</td>\n",
       "      <td>ios</td>\n",
       "      <td>0LocGHQTQP7NngKsIqSz</td>\n",
       "      <td>2.6.1-1804789113</td>\n",
       "      <td>dd</td>\n",
       "      <td>Dark Diving</td>\n",
       "      <td>unknown</td>\n",
       "    </tr>\n",
       "    <tr>\n",
       "      <th>2857</th>\n",
       "      <td>2021-01-17 23:13:31</td>\n",
       "      <td>10</td>\n",
       "      <td>VE</td>\n",
       "      <td>6.028233</td>\n",
       "      <td>Itunes</td>\n",
       "      <td>5453471344</td>\n",
       "      <td>ios</td>\n",
       "      <td>0LocGHQTQP7NngKsIqSz</td>\n",
       "      <td>2.6.1-1804789113</td>\n",
       "      <td>dd</td>\n",
       "      <td>Dark Diving</td>\n",
       "      <td>CHF</td>\n",
       "    </tr>\n",
       "    <tr>\n",
       "      <th>2858</th>\n",
       "      <td>2021-02-05 13:03:47</td>\n",
       "      <td>8</td>\n",
       "      <td>ID</td>\n",
       "      <td>33.966516</td>\n",
       "      <td>GooglePlay</td>\n",
       "      <td>7487755476</td>\n",
       "      <td>android</td>\n",
       "      <td>rcRU3r0I22OyEFYAK5XS</td>\n",
       "      <td>2.7.0-1804792974</td>\n",
       "      <td>dd</td>\n",
       "      <td>Dark Diving</td>\n",
       "      <td>CHF</td>\n",
       "    </tr>\n",
       "    <tr>\n",
       "      <th>2859</th>\n",
       "      <td>2021-02-25 13:55:32</td>\n",
       "      <td>7</td>\n",
       "      <td>AU</td>\n",
       "      <td>38.008819</td>\n",
       "      <td>GooglePlay</td>\n",
       "      <td>3429525576</td>\n",
       "      <td>android</td>\n",
       "      <td>jhAUkMKU0vJTLGzfZ6Ij</td>\n",
       "      <td>2.7.0-1804792974</td>\n",
       "      <td>dd</td>\n",
       "      <td>Dark Diving</td>\n",
       "      <td>CHF</td>\n",
       "    </tr>\n",
       "    <tr>\n",
       "      <th>2860</th>\n",
       "      <td>2021-02-27 00:23:41</td>\n",
       "      <td>8</td>\n",
       "      <td>AU</td>\n",
       "      <td>33.459975</td>\n",
       "      <td>GooglePlay</td>\n",
       "      <td>9099537065</td>\n",
       "      <td>android</td>\n",
       "      <td>jhAUkMKU0vJTLGzfZ6Ij</td>\n",
       "      <td>2.7.0-1804792974</td>\n",
       "      <td>dd</td>\n",
       "      <td>Dark Diving</td>\n",
       "      <td>CHF</td>\n",
       "    </tr>\n",
       "  </tbody>\n",
       "</table>\n",
       "<p>2861 rows × 12 columns</p>\n",
       "</div>"
      ],
      "text/plain": [
       "                datetime  game_basic_level ip_country  order_amount_gross  \\\n",
       "0    2021-01-24 04:05:34                 7         CL           35.446176   \n",
       "1    2021-01-24 06:00:35                 9         CL            6.569976   \n",
       "2    2021-01-24 07:04:58                10         CL           29.010654   \n",
       "3    2021-01-25 04:28:21                12         CL           10.685374   \n",
       "4    2021-01-25 04:43:59                12         CL            5.367659   \n",
       "...                  ...               ...        ...                 ...   \n",
       "2856 2021-01-17 22:48:13                10         VE           22.575198   \n",
       "2857 2021-01-17 23:13:31                10         VE            6.028233   \n",
       "2858 2021-02-05 13:03:47                 8         ID           33.966516   \n",
       "2859 2021-02-25 13:55:32                 7         AU           38.008819   \n",
       "2860 2021-02-27 00:23:41                 8         AU           33.459975   \n",
       "\n",
       "     order_payment_provider  order_transaction_id platform  \\\n",
       "0                    Itunes            1184529158      ios   \n",
       "1                    Itunes             774979105      ios   \n",
       "2                    Itunes            7793447456      ios   \n",
       "3                    Itunes            3111804466      ios   \n",
       "4                    Itunes            4652947566      ios   \n",
       "...                     ...                   ...      ...   \n",
       "2856                 Itunes            9465335020      ios   \n",
       "2857                 Itunes            5453471344      ios   \n",
       "2858             GooglePlay            7487755476  android   \n",
       "2859             GooglePlay            3429525576  android   \n",
       "2860             GooglePlay            9099537065  android   \n",
       "\n",
       "                   user_id            version app_code      app_name currency  \n",
       "0     23zBzzPT2thJHJb4ZMwl  1.17.4-1804792971       st  Slow Traffic      EUR  \n",
       "1     23zBzzPT2thJHJb4ZMwl  1.17.4-1804792971       st  Slow Traffic      CHF  \n",
       "2     23zBzzPT2thJHJb4ZMwl  1.17.4-1804792971       st  Slow Traffic      USD  \n",
       "3     23zBzzPT2thJHJb4ZMwl  1.17.4-1804792971       st  Slow Traffic      USD  \n",
       "4     23zBzzPT2thJHJb4ZMwl  1.17.4-1804792971       st  Slow Traffic      GBP  \n",
       "...                    ...                ...      ...           ...      ...  \n",
       "2856  0LocGHQTQP7NngKsIqSz   2.6.1-1804789113       dd   Dark Diving  unknown  \n",
       "2857  0LocGHQTQP7NngKsIqSz   2.6.1-1804789113       dd   Dark Diving      CHF  \n",
       "2858  rcRU3r0I22OyEFYAK5XS   2.7.0-1804792974       dd   Dark Diving      CHF  \n",
       "2859  jhAUkMKU0vJTLGzfZ6Ij   2.7.0-1804792974       dd   Dark Diving      CHF  \n",
       "2860  jhAUkMKU0vJTLGzfZ6Ij   2.7.0-1804792974       dd   Dark Diving      CHF  \n",
       "\n",
       "[2861 rows x 12 columns]"
      ]
     },
     "execution_count": 4,
     "metadata": {},
     "output_type": "execute_result"
    }
   ],
   "source": [
    "fn2 = open(PATH_NAME+FILE_NAME2,'r')\n",
    "js2 = fn2.read()\n",
    "purchases = pd.read_json(js2)\n",
    "purchases"
   ]
  },
  {
   "cell_type": "markdown",
   "metadata": {},
   "source": [
    "# Analisis de datos"
   ]
  },
  {
   "cell_type": "markdown",
   "metadata": {},
   "source": [
    "<b> PARA LOS NUEVOS USUARIOS"
   ]
  },
  {
   "cell_type": "code",
   "execution_count": 5,
   "metadata": {},
   "outputs": [
    {
     "name": "stdout",
     "output_type": "stream",
     "text": [
      "<class 'pandas.core.frame.DataFrame'>\n",
      "RangeIndex: 102941 entries, 0 to 102940\n",
      "Data columns (total 9 columns):\n",
      " #   Column                Non-Null Count   Dtype         \n",
      "---  ------                --------------   -----         \n",
      " 0   client_mobile_device  102941 non-null  object        \n",
      " 1   client_mobile_os      102941 non-null  object        \n",
      " 2   datetime              102941 non-null  datetime64[ns]\n",
      " 3   ip_country            102941 non-null  object        \n",
      " 4   platform              102941 non-null  object        \n",
      " 5   user_id               102941 non-null  object        \n",
      " 6   version               102941 non-null  object        \n",
      " 7   app_code              102941 non-null  object        \n",
      " 8   app_name              102941 non-null  object        \n",
      "dtypes: datetime64[ns](1), object(8)\n",
      "memory usage: 7.1+ MB\n"
     ]
    }
   ],
   "source": [
    "newusers.info()"
   ]
  },
  {
   "cell_type": "code",
   "execution_count": 6,
   "metadata": {},
   "outputs": [
    {
     "data": {
      "text/plain": [
       "client_mobile_device      3493\n",
       "client_mobile_os           105\n",
       "datetime                101634\n",
       "ip_country                  67\n",
       "platform                     2\n",
       "user_id                 102941\n",
       "version                     48\n",
       "app_code                     3\n",
       "app_name                     3\n",
       "dtype: int64"
      ]
     },
     "execution_count": 6,
     "metadata": {},
     "output_type": "execute_result"
    }
   ],
   "source": [
    "newusers.nunique()"
   ]
  },
  {
   "cell_type": "code",
   "execution_count": 7,
   "metadata": {},
   "outputs": [
    {
     "name": "stderr",
     "output_type": "stream",
     "text": [
      "<ipython-input-7-6d5ad4e79450>:1: FutureWarning: Treating datetime data as categorical rather than numeric in `.describe` is deprecated and will be removed in a future version of pandas. Specify `datetime_is_numeric=True` to silence this warning and adopt the future behavior now.\n",
      "  newusers.describe()\n"
     ]
    },
    {
     "data": {
      "text/html": [
       "<div>\n",
       "<style scoped>\n",
       "    .dataframe tbody tr th:only-of-type {\n",
       "        vertical-align: middle;\n",
       "    }\n",
       "\n",
       "    .dataframe tbody tr th {\n",
       "        vertical-align: top;\n",
       "    }\n",
       "\n",
       "    .dataframe thead th {\n",
       "        text-align: right;\n",
       "    }\n",
       "</style>\n",
       "<table border=\"1\" class=\"dataframe\">\n",
       "  <thead>\n",
       "    <tr style=\"text-align: right;\">\n",
       "      <th></th>\n",
       "      <th>client_mobile_device</th>\n",
       "      <th>client_mobile_os</th>\n",
       "      <th>datetime</th>\n",
       "      <th>ip_country</th>\n",
       "      <th>platform</th>\n",
       "      <th>user_id</th>\n",
       "      <th>version</th>\n",
       "      <th>app_code</th>\n",
       "      <th>app_name</th>\n",
       "    </tr>\n",
       "  </thead>\n",
       "  <tbody>\n",
       "    <tr>\n",
       "      <th>count</th>\n",
       "      <td>102941</td>\n",
       "      <td>102941</td>\n",
       "      <td>102941</td>\n",
       "      <td>102941</td>\n",
       "      <td>102941</td>\n",
       "      <td>102941</td>\n",
       "      <td>102941</td>\n",
       "      <td>102941</td>\n",
       "      <td>102941</td>\n",
       "    </tr>\n",
       "    <tr>\n",
       "      <th>unique</th>\n",
       "      <td>3493</td>\n",
       "      <td>105</td>\n",
       "      <td>101634</td>\n",
       "      <td>67</td>\n",
       "      <td>2</td>\n",
       "      <td>102941</td>\n",
       "      <td>48</td>\n",
       "      <td>3</td>\n",
       "      <td>3</td>\n",
       "    </tr>\n",
       "    <tr>\n",
       "      <th>top</th>\n",
       "      <td>samsung SM-A105M</td>\n",
       "      <td>9</td>\n",
       "      <td>2021-02-28 06:08:37</td>\n",
       "      <td>CL</td>\n",
       "      <td>android</td>\n",
       "      <td>RKX45WWymSLRpBwGam23</td>\n",
       "      <td>3.2.3-1804795535</td>\n",
       "      <td>fw</td>\n",
       "      <td>Find The Word</td>\n",
       "    </tr>\n",
       "    <tr>\n",
       "      <th>freq</th>\n",
       "      <td>1843</td>\n",
       "      <td>32275</td>\n",
       "      <td>3</td>\n",
       "      <td>46808</td>\n",
       "      <td>80720</td>\n",
       "      <td>1</td>\n",
       "      <td>14876</td>\n",
       "      <td>68906</td>\n",
       "      <td>68906</td>\n",
       "    </tr>\n",
       "    <tr>\n",
       "      <th>first</th>\n",
       "      <td>NaN</td>\n",
       "      <td>NaN</td>\n",
       "      <td>2021-01-01 00:00:53</td>\n",
       "      <td>NaN</td>\n",
       "      <td>NaN</td>\n",
       "      <td>NaN</td>\n",
       "      <td>NaN</td>\n",
       "      <td>NaN</td>\n",
       "      <td>NaN</td>\n",
       "    </tr>\n",
       "    <tr>\n",
       "      <th>last</th>\n",
       "      <td>NaN</td>\n",
       "      <td>NaN</td>\n",
       "      <td>2021-02-28 23:59:55</td>\n",
       "      <td>NaN</td>\n",
       "      <td>NaN</td>\n",
       "      <td>NaN</td>\n",
       "      <td>NaN</td>\n",
       "      <td>NaN</td>\n",
       "      <td>NaN</td>\n",
       "    </tr>\n",
       "  </tbody>\n",
       "</table>\n",
       "</div>"
      ],
      "text/plain": [
       "       client_mobile_device client_mobile_os             datetime ip_country  \\\n",
       "count                102941           102941               102941     102941   \n",
       "unique                 3493              105               101634         67   \n",
       "top        samsung SM-A105M                9  2021-02-28 06:08:37         CL   \n",
       "freq                   1843            32275                    3      46808   \n",
       "first                   NaN              NaN  2021-01-01 00:00:53        NaN   \n",
       "last                    NaN              NaN  2021-02-28 23:59:55        NaN   \n",
       "\n",
       "       platform               user_id           version app_code  \\\n",
       "count    102941                102941            102941   102941   \n",
       "unique        2                102941                48        3   \n",
       "top     android  RKX45WWymSLRpBwGam23  3.2.3-1804795535       fw   \n",
       "freq      80720                     1             14876    68906   \n",
       "first       NaN                   NaN               NaN      NaN   \n",
       "last        NaN                   NaN               NaN      NaN   \n",
       "\n",
       "             app_name  \n",
       "count          102941  \n",
       "unique              3  \n",
       "top     Find The Word  \n",
       "freq            68906  \n",
       "first             NaN  \n",
       "last              NaN  "
      ]
     },
     "execution_count": 7,
     "metadata": {},
     "output_type": "execute_result"
    }
   ],
   "source": [
    "newusers.describe()"
   ]
  },
  {
   "cell_type": "code",
   "execution_count": 8,
   "metadata": {},
   "outputs": [
    {
     "data": {
      "text/plain": [
       "client_mobile_device    0\n",
       "client_mobile_os        0\n",
       "datetime                0\n",
       "ip_country              0\n",
       "platform                0\n",
       "user_id                 0\n",
       "version                 0\n",
       "app_code                0\n",
       "app_name                0\n",
       "dtype: int64"
      ]
     },
     "execution_count": 8,
     "metadata": {},
     "output_type": "execute_result"
    }
   ],
   "source": [
    "newusers.isna().sum()"
   ]
  },
  {
   "cell_type": "code",
   "execution_count": 9,
   "metadata": {},
   "outputs": [
    {
     "data": {
      "text/plain": [
       "False"
      ]
     },
     "execution_count": 9,
     "metadata": {},
     "output_type": "execute_result"
    }
   ],
   "source": [
    "newusers.duplicated().any()"
   ]
  },
  {
   "cell_type": "code",
   "execution_count": 10,
   "metadata": {},
   "outputs": [
    {
     "data": {
      "text/plain": [
       "android    80720\n",
       "ios        22221\n",
       "Name: platform, dtype: int64"
      ]
     },
     "execution_count": 10,
     "metadata": {},
     "output_type": "execute_result"
    }
   ],
   "source": [
    "newusers['platform'].value_counts()"
   ]
  },
  {
   "cell_type": "markdown",
   "metadata": {},
   "source": [
    "<b> PARA LOS COMPRAS REALIZADAS"
   ]
  },
  {
   "cell_type": "code",
   "execution_count": 11,
   "metadata": {},
   "outputs": [
    {
     "name": "stdout",
     "output_type": "stream",
     "text": [
      "<class 'pandas.core.frame.DataFrame'>\n",
      "RangeIndex: 2861 entries, 0 to 2860\n",
      "Data columns (total 12 columns):\n",
      " #   Column                  Non-Null Count  Dtype         \n",
      "---  ------                  --------------  -----         \n",
      " 0   datetime                2861 non-null   datetime64[ns]\n",
      " 1   game_basic_level        2861 non-null   int64         \n",
      " 2   ip_country              2861 non-null   object        \n",
      " 3   order_amount_gross      2861 non-null   float64       \n",
      " 4   order_payment_provider  2861 non-null   object        \n",
      " 5   order_transaction_id    2861 non-null   int64         \n",
      " 6   platform                2861 non-null   object        \n",
      " 7   user_id                 2861 non-null   object        \n",
      " 8   version                 2861 non-null   object        \n",
      " 9   app_code                2861 non-null   object        \n",
      " 10  app_name                2861 non-null   object        \n",
      " 11  currency                2861 non-null   object        \n",
      "dtypes: datetime64[ns](1), float64(1), int64(2), object(8)\n",
      "memory usage: 268.3+ KB\n"
     ]
    }
   ],
   "source": [
    "purchases.info()"
   ]
  },
  {
   "cell_type": "code",
   "execution_count": 12,
   "metadata": {},
   "outputs": [
    {
     "data": {
      "text/plain": [
       "datetime                  2857\n",
       "game_basic_level           602\n",
       "ip_country                  27\n",
       "order_amount_gross        2861\n",
       "order_payment_provider       2\n",
       "order_transaction_id      2861\n",
       "platform                     3\n",
       "user_id                    699\n",
       "version                     23\n",
       "app_code                     3\n",
       "app_name                     3\n",
       "currency                     5\n",
       "dtype: int64"
      ]
     },
     "execution_count": 12,
     "metadata": {},
     "output_type": "execute_result"
    }
   ],
   "source": [
    "purchases.nunique()"
   ]
  },
  {
   "cell_type": "code",
   "execution_count": 13,
   "metadata": {},
   "outputs": [
    {
     "data": {
      "text/html": [
       "<div>\n",
       "<style scoped>\n",
       "    .dataframe tbody tr th:only-of-type {\n",
       "        vertical-align: middle;\n",
       "    }\n",
       "\n",
       "    .dataframe tbody tr th {\n",
       "        vertical-align: top;\n",
       "    }\n",
       "\n",
       "    .dataframe thead th {\n",
       "        text-align: right;\n",
       "    }\n",
       "</style>\n",
       "<table border=\"1\" class=\"dataframe\">\n",
       "  <thead>\n",
       "    <tr style=\"text-align: right;\">\n",
       "      <th></th>\n",
       "      <th>game_basic_level</th>\n",
       "      <th>order_amount_gross</th>\n",
       "      <th>order_transaction_id</th>\n",
       "    </tr>\n",
       "  </thead>\n",
       "  <tbody>\n",
       "    <tr>\n",
       "      <th>count</th>\n",
       "      <td>2861.000000</td>\n",
       "      <td>2861.000000</td>\n",
       "      <td>2.861000e+03</td>\n",
       "    </tr>\n",
       "    <tr>\n",
       "      <th>mean</th>\n",
       "      <td>176.882209</td>\n",
       "      <td>26.310582</td>\n",
       "      <td>5.026741e+09</td>\n",
       "    </tr>\n",
       "    <tr>\n",
       "      <th>std</th>\n",
       "      <td>197.306477</td>\n",
       "      <td>34.032660</td>\n",
       "      <td>2.837513e+09</td>\n",
       "    </tr>\n",
       "    <tr>\n",
       "      <th>min</th>\n",
       "      <td>2.000000</td>\n",
       "      <td>0.063427</td>\n",
       "      <td>2.400889e+06</td>\n",
       "    </tr>\n",
       "    <tr>\n",
       "      <th>25%</th>\n",
       "      <td>26.000000</td>\n",
       "      <td>8.222154</td>\n",
       "      <td>2.589577e+09</td>\n",
       "    </tr>\n",
       "    <tr>\n",
       "      <th>50%</th>\n",
       "      <td>103.000000</td>\n",
       "      <td>19.512636</td>\n",
       "      <td>5.047037e+09</td>\n",
       "    </tr>\n",
       "    <tr>\n",
       "      <th>75%</th>\n",
       "      <td>263.000000</td>\n",
       "      <td>33.889809</td>\n",
       "      <td>7.439688e+09</td>\n",
       "    </tr>\n",
       "    <tr>\n",
       "      <th>max</th>\n",
       "      <td>1427.000000</td>\n",
       "      <td>775.862223</td>\n",
       "      <td>9.999436e+09</td>\n",
       "    </tr>\n",
       "  </tbody>\n",
       "</table>\n",
       "</div>"
      ],
      "text/plain": [
       "       game_basic_level  order_amount_gross  order_transaction_id\n",
       "count       2861.000000         2861.000000          2.861000e+03\n",
       "mean         176.882209           26.310582          5.026741e+09\n",
       "std          197.306477           34.032660          2.837513e+09\n",
       "min            2.000000            0.063427          2.400889e+06\n",
       "25%           26.000000            8.222154          2.589577e+09\n",
       "50%          103.000000           19.512636          5.047037e+09\n",
       "75%          263.000000           33.889809          7.439688e+09\n",
       "max         1427.000000          775.862223          9.999436e+09"
      ]
     },
     "execution_count": 13,
     "metadata": {},
     "output_type": "execute_result"
    }
   ],
   "source": [
    "purchases.describe()"
   ]
  },
  {
   "cell_type": "code",
   "execution_count": 14,
   "metadata": {},
   "outputs": [
    {
     "data": {
      "text/plain": [
       "datetime                  0\n",
       "game_basic_level          0\n",
       "ip_country                0\n",
       "order_amount_gross        0\n",
       "order_payment_provider    0\n",
       "order_transaction_id      0\n",
       "platform                  0\n",
       "user_id                   0\n",
       "version                   0\n",
       "app_code                  0\n",
       "app_name                  0\n",
       "currency                  0\n",
       "dtype: int64"
      ]
     },
     "execution_count": 14,
     "metadata": {},
     "output_type": "execute_result"
    }
   ],
   "source": [
    "purchases.isna().sum()"
   ]
  },
  {
   "cell_type": "code",
   "execution_count": 15,
   "metadata": {},
   "outputs": [
    {
     "data": {
      "text/plain": [
       "False"
      ]
     },
     "execution_count": 15,
     "metadata": {},
     "output_type": "execute_result"
    }
   ],
   "source": [
    "purchases.duplicated().any()"
   ]
  },
  {
   "cell_type": "code",
   "execution_count": 16,
   "metadata": {},
   "outputs": [
    {
     "data": {
      "text/plain": [
       "ios        1607\n",
       "android    1191\n",
       "             63\n",
       "Name: platform, dtype: int64"
      ]
     },
     "execution_count": 16,
     "metadata": {},
     "output_type": "execute_result"
    }
   ],
   "source": [
    "purchases['platform'].value_counts() # Se debe hacer limpieza de valores desconocidos"
   ]
  },
  {
   "cell_type": "code",
   "execution_count": 17,
   "metadata": {},
   "outputs": [
    {
     "data": {
      "text/plain": [
       "EUR        807\n",
       "CHF        772\n",
       "GBP        585\n",
       "unknown    426\n",
       "USD        271\n",
       "Name: currency, dtype: int64"
      ]
     },
     "execution_count": 17,
     "metadata": {},
     "output_type": "execute_result"
    }
   ],
   "source": [
    "purchases['currency'].value_counts() # Se debe hacer limpieza de valores desconocidos"
   ]
  },
  {
   "cell_type": "markdown",
   "metadata": {},
   "source": [
    "# Limpieza y tratamiento de datos"
   ]
  },
  {
   "cell_type": "code",
   "execution_count": 18,
   "metadata": {},
   "outputs": [
    {
     "data": {
      "text/plain": [
       "ios        1670\n",
       "android    1191\n",
       "Name: platform, dtype: int64"
      ]
     },
     "execution_count": 18,
     "metadata": {},
     "output_type": "execute_result"
    }
   ],
   "source": [
    "purchases['platform'] = purchases['platform'].replace({'':'ios'})\n",
    "purchases['platform'].value_counts() # Eliminamos los 'unknown' del campo 'platform'"
   ]
  },
  {
   "cell_type": "code",
   "execution_count": 19,
   "metadata": {},
   "outputs": [
    {
     "data": {
      "text/plain": [
       "EUR    807\n",
       "CHF    772\n",
       "USD    697\n",
       "GBP    585\n",
       "Name: currency, dtype: int64"
      ]
     },
     "execution_count": 19,
     "metadata": {},
     "output_type": "execute_result"
    }
   ],
   "source": [
    "purchases['currency'] = purchases['currency'].replace({'unknown':'USD'})\n",
    "purchases['currency'].value_counts() # Eliminamos los 'unknown' del campo 'currency'"
   ]
  },
  {
   "cell_type": "markdown",
   "metadata": {},
   "source": [
    "# Rescate de divisas desde la api"
   ]
  },
  {
   "cell_type": "code",
   "execution_count": 20,
   "metadata": {},
   "outputs": [
    {
     "name": "stdout",
     "output_type": "stream",
     "text": [
      "1.1891\n"
     ]
    }
   ],
   "source": [
    "date = '2021-03-19'\n",
    "currency = 'USD'\n",
    "a = rq.get('https://api.exchangeratesapi.io/' + date + '?symbols=' + currency)\n",
    "b= a.json()\n",
    "c = pd.DataFrame(b)\n",
    "\n",
    "print(c['rates'][currency])"
   ]
  },
  {
   "cell_type": "code",
   "execution_count": 21,
   "metadata": {},
   "outputs": [
    {
     "name": "stdout",
     "output_type": "stream",
     "text": [
      "[1, 1.0773, 1.2158, 1.2152, 0.888, 0.88698, 0.88395, 1.0759, 0.88603, 1, 1, 1.0783, 1.0798, 1.2136, 1.0798, 0.88383, 1.0798, 1, 1.0798, 1, 1.2136, 1.0798, 1.2136, 1.0798, 1, 1.2084, 0.882, 1.0816, 1.0816, 0.88145, 1.2017, 1.1996, 1.0818, 1.0825, 1.0825, 1.1983, 1, 1, 1, 0.87833, 0.87833, 1.2025, 1, 1, 1, 1.0817, 1.0817, 1, 1.0811, 1.2296, 1, 0.9019, 1, 1.0827, 1.0827, 1, 1.225, 1, 1, 0.90235, 1, 1.0838, 1.2166, 1, 1.0805, 1.2124, 1, 0.89045, 1.2158, 1.2158, 1, 1.2091, 1, 0.88383, 1.2136, 1.0798, 1.2136, 1, 1, 0.87538, 1, 1.1983, 0.87538, 1, 0.8765, 0.87755, 1.2108, 1, 0.86508, 1, 0.90235, 0.90235, 1, 1.2163, 0.90235, 0.90235, 0.90235, 1, 1.0838, 1.0838, 1, 1, 1, 1, 1.0812, 0.8944, 1.0812, 0.8944, 1.2161, 1, 1, 1.2166, 1.2123, 1.2123, 1.077, 1, 1.2123, 1.077, 1.077, 1.2064, 1.2064, 1.0747, 1.2101, 0.88563, 1.2158, 1.2158, 1.0773, 1.2152, 0.88698, 1.0789, 0.88395, 0.88383, 1.0798, 1.0769, 1, 1.2161, 1, 1.2123, 1.077, 1, 1, 1.08, 1.2143, 1, 1, 1, 1, 1.2025, 1.0842, 0.87833, 1, 1, 1.2108, 1, 1, 1, 1, 1, 1.2225, 1, 1, 1, 1.2123, 0.88563, 1.0773, 1, 1.0789, 0.88395, 1.2136, 0.88075, 1, 1, 1.2133, 1.0986, 1.2104, 1.0805, 0.8765, 1.0805, 1, 1.0802, 1.0802, 1.0803, 0.87753, 1.0803, 1.2108, 1, 0.87753, 1.2108, 1.0803, 1.0802, 0.87225, 1.2129, 1.08, 0.8654, 0.86508, 1, 1, 0.8653, 1.2143, 1.2146, 1, 1, 0.87053, 1.0986, 1.0986, 1.0986, 1.2158, 1.0773, 1.0773, 1.0773, 1.2158, 1, 1.0759, 1.0804, 1.0825, 1.0825, 1.0806, 0.8653, 1.0986, 1, 1.0805, 1.0812, 1.0798, 1.0817, 1.0805, 1.2147, 1.0851, 1.0851, 1.0851, 1, 1.2139, 1, 1.2121, 1.0773, 1.0808, 1, 1.2104, 1, 0.88998, 1, 1, 0.89045, 1, 0.882, 0.88075, 1, 1.1996, 1.0825, 1.0825, 0.87538, 1.0817, 1, 0.87755, 1.0789, 1, 0.87333, 1, 1, 1.0818, 1, 1.0986, 1, 1.0986, 1.0986, 1.2158, 1.0773, 1.0773, 1.0798, 1.1983, 1, 1.2163, 1.2161, 0.88998, 1.0769, 1, 1, 0.90128, 1, 0.90128, 1, 1, 1.2124, 1, 1.2114, 0.88395, 1.2091, 1.0798, 1, 1.0798, 1.0798, 1.2136, 1.0825, 1, 1.1983, 1.0825, 1, 1.0825, 1, 1, 1, 1.0805, 1.0805, 0.8765, 1, 0.8765, 1.2127, 1, 0.8765, 1, 1.0805, 1, 1.2127, 0.8765, 1.1076, 0.86408, 1.0986, 1.0986, 1.0821, 0.90635, 0.88383, 1, 1.2143, 1.2139, 1.2139, 1.2139, 1.2139, 1.2139, 1.2133, 1.2133, 1.2143, 1.2143, 1.2143, 1.2143, 1, 1.2225, 1.2121, 1.2121, 1.2121, 1.2121, 1, 1.0759, 1, 1, 1, 1.0802, 0.8653, 1.0888, 1.0946, 1, 0.8603, 1.0986, 1.0798, 0.8696, 1.0829, 0.8603, 1.2271, 1, 1.0851, 1.0851, 0.86508, 1.2139, 1.2139, 1, 1, 1, 1, 1.2121, 1, 1.0986, 1.0986, 1, 1.0986, 1.225, 1.0803, 0.8654, 1, 1.2271, 1, 0.88563, 1.2136, 1, 1.0818, 1.2271, 1.0827, 1.0838, 1.0812, 1.0825, 0.87538, 0.8696, 0.9016, 1.2296, 1.08, 1, 0.90333, 1.0803, 1.2163, 1.2161, 1.2124, 1.2158, 0.882, 0.8654, 1.1029, 1, 1.077, 1, 1, 0.87538, 1.1983, 0.87833, 0.87833, 1, 1, 1, 1.0805, 1.2108, 1, 1, 1.2108, 1, 1.0806, 1.0798, 1, 1, 1, 0.882, 1.0816, 0.882, 0.88075, 1, 1.0808, 0.88075, 1, 1, 1, 1.1983, 0.87538, 1, 1.0825, 1.1983, 1.1983, 1, 0.8696, 1.1076, 1.2121, 0.87053, 1.2158, 1.2136, 1.2136, 1.2084, 1.2084, 1.2084, 1.1983, 1.1983, 1.1983, 1.1983, 1.1983, 1.2084, 1.2121, 1, 0.88383, 1.2127, 1, 0.86508, 1, 1.0986, 1, 1, 1, 1.2108, 1.0803, 1.0772, 1.0804, 1, 0.88998, 1, 0.88998, 1.2123, 1.2132, 1, 0.88625, 1, 1.0773, 1.0759, 1.0798, 1.0798, 1.0825, 1.1983, 0.87538, 0.87538, 1, 1.2127, 1.0802, 1, 1, 0.86508, 1.0888, 1.0946, 1.0946, 0.86408, 1.0986, 0.87053, 1.0986, 0.8765, 1.2127, 1.2127, 1, 1.0802, 1, 1, 1.0802, 1, 0.87753, 0.87753, 1, 0.87753, 1.2108, 1, 1, 1.2108, 0.87225, 1.0829, 1, 0.86508, 0.86508, 1.0851, 1, 0.86408, 1, 1.0986, 1.2271, 0.89903, 1.0802, 1.0802, 1, 1.0803, 1.0803, 1, 1.0803, 1, 1, 1.0803, 1, 1.0803, 1.0803, 1, 0.90635, 1, 1.0821, 1, 1, 1.2338, 1, 1, 1, 1, 1.2276, 1, 1, 1.2276, 0.9019, 1.2276, 1.225, 1.0827, 0.90128, 1.225, 1.225, 1.225, 1.0827, 0.90128, 1.225, 0.90128, 1, 1.0827, 1, 1.0838, 1, 1.2163, 0.8944, 1, 1.0812, 1.2161, 0.8944, 1.0812, 1, 1.2166, 1.2166, 1, 1.0812, 1.0812, 1.2166, 1, 1.2124, 0.88943, 1, 0.88998, 1.077, 1.2123, 1, 1, 1.2123, 1.2123, 1.077, 1.0747, 1.0747, 0.891, 0.891, 1.0769, 1, 0.891, 1.0769, 1, 1.0778, 0.88563, 1.2101, 1.0778, 1, 1.2101, 1, 1.0773, 1, 1.2158, 1, 1.0773, 0.89045, 0.89045, 0.89045, 1.2158, 1.0773, 1.0773, 1.2158, 1.0773, 1.2158, 0.89045, 1, 1.0773, 1, 1, 1.0773, 1, 1.0773, 1.0773, 1.0773, 0.89045, 0.89045, 1.2158, 1.2158, 1, 1.2158, 1.0773, 1, 1.0773, 1, 1, 1.2152, 1, 1.0772, 1, 1.0772, 1.2152, 1.0772, 0.888, 0.88698, 0.88698, 0.88698, 1.0789, 0.88698, 1.0789, 1, 0.88698, 0.88395, 1.0759, 0.88395, 0.88395, 1.0759, 1.2114, 1.2114, 1, 1, 1.0783, 1.2091, 1.2091, 0.88603, 1.0783, 1, 1.2091, 1, 1.2136, 1.2136, 1, 1, 1, 1, 1.2136, 1.2136, 1, 1.2136, 1.0798, 1, 0.88383, 1.2136, 0.88383, 1.0798, 1.0798, 1.2136, 1.0798, 0.88383, 0.88383, 1.2136, 0.88383, 1.2084, 1.0816, 1.0816, 1.0816, 0.882, 1, 1.2084, 1, 0.882, 0.882, 0.882, 1.2084, 0.88075, 1, 0.88075, 0.88075, 1.0808, 0.88075, 1.0808, 1.2044, 1.2044, 1.0808, 1, 1, 0.88075, 1, 1.0808, 1.2044, 1.2017, 0.88145, 1.0804, 1.0804, 0.88145, 1.2017, 1, 0.88145, 1.2017, 1, 1.0804, 1, 1.0804, 1, 0.87693, 1.0818, 1.0818, 1.1996, 0.87693, 1.1996, 1.0825, 1.0825, 1.0825, 1, 1.1983, 0.87538, 0.87538, 1.0825, 1.1983, 1.1983, 1.0825, 1.1983, 1.1983, 1.0825, 1, 1.1983, 1, 0.87538, 1.0825, 0.87538, 1.0825, 0.87538, 1.1983, 1.0825, 1.0825, 1.1983, 1.0825, 1.0825, 1.0825, 1, 1, 1, 1.1983, 0.87538, 0.87538, 1.1983, 1.0842, 1.2025, 1.0842, 1.2025, 1, 1, 1.0842, 0.87833, 1.0842, 1, 1.2104, 1.0817, 1.0817, 0.87828, 1.2104, 1.0817, 1.0817, 1.2104, 1, 1, 1.0805, 1.2127, 0.8765, 1.0805, 1, 1.0805, 1.0805, 1.0805, 1.2127, 1.2127, 1.2127, 1.2127, 1.0805, 0.87755, 1, 1.0802, 1.2147, 1.2147, 1.0802, 1.0802, 1.2108, 1, 1, 1.2108, 1.0803, 1, 0.87753, 1.2108, 1.0803, 0.87753, 1, 1.2108, 1, 1, 1.0803, 1.2108, 1.2108, 0.87753, 1.2108, 1.0803, 1, 1.0803, 1.2108, 0.87753, 0.87753, 1, 1.2108, 1, 1.0802, 0.87225, 1.0802, 1.0802, 1.2129, 1.2129, 1.2143, 0.87333, 1.08, 0.87333, 1.08, 1, 1.08, 1.08, 1, 1.08, 1, 1.0806, 1.0806, 1.206, 1, 1.206, 1.0806, 1.0806, 1, 0.8696, 1.206, 0.8696, 1, 1.2084, 1, 1.0829, 1.2084, 1.2084, 1.2084, 1.0829, 1.2084, 1.2084, 1.2084, 1.2084, 0.8654, 1.2139, 1.0851, 1, 1.0851, 1.0851, 1.2139, 0.86508, 1, 1.0851, 0.86508, 1.0851, 1, 1, 1.0851, 1, 1, 0.86508, 1.2139, 1.0851, 1, 1.2139, 1, 1.0851, 1, 1.0851, 1.2139, 1.2139, 1, 1, 1.2139, 1, 1, 1.0851, 1.0851, 1.0851, 1, 1, 1.0851, 1.0851, 1.2139, 1.2133, 1.0888, 1.2133, 1.2133, 1.2133, 1.0888, 0.8653, 1.2133, 1.0946, 1, 0.86308, 1.2143, 1.2143, 1.2143, 1.2143, 1.2146, 1.2146, 1, 0.8603, 1.2146, 1.1029, 0.8603, 0.8603, 1.1029, 1.2146, 1.2225, 1.1076, 1.2225, 1, 1.2225, 1.2225, 1.2225, 1, 1.0986, 1.2121, 1.2121, 1.2121, 0.87053, 1.2121, 0.87053, 1.0986, 1, 1, 1.0986, 1, 1.2121, 1.2121, 0.87053, 1.2121, 1.2121, 0.87053, 1.2121, 1.2121, 1, 1.2121, 0.87053, 1, 0.87053, 0.87053, 1.0986, 1, 1.2121, 1.0986, 1, 1, 1.0986, 0.87053, 1, 0.87053, 1.206, 1, 0.9016, 1.2166, 1, 1, 1, 1, 1.1983, 1, 1, 0.86408, 0.87753, 1.1029, 1, 0.8603, 1, 1.2136, 1, 1.2139, 1, 1.0851, 1, 1, 0.88383, 1.1983, 0.87753, 0.8653, 1.0888, 1.0802, 1.0802, 1.0802, 1, 1.0802, 1.2271, 1.0802, 1, 0.9016, 1.2271, 0.90333, 1, 1, 1.2338, 1, 1, 0.90635, 1.0821, 0.9019, 1, 1, 0.9019, 1, 1.0833, 1.225, 1, 1, 0.90128, 0.90128, 1.0827, 1.225, 1, 0.90128, 1, 0.90128, 0.90128, 1.225, 1.225, 1.225, 1.0838, 1, 1.2163, 1, 1.2163, 1.0812, 1.2161, 1.0812, 1, 1.0812, 1.0812, 1, 1, 1.0812, 1.0812, 1.2166, 1.2166, 1, 1.0812, 1.2166, 0.88983, 1.0812, 0.88943, 0.88943, 1.0805, 0.88943, 1.0805, 0.88943, 0.88943, 0.88943, 0.88943, 1.2124, 0.88943, 0.88998, 0.88998, 1.2123, 1.077, 1, 0.88998, 0.88998, 1, 1, 1.2123, 1, 0.88998, 1.2123, 0.88998, 1, 1.077, 0.88998, 1, 1.077, 1.077, 1.077, 1, 1.077, 1, 1.2123, 1.077, 1.077, 0.88998, 1.2064, 1.2064, 1, 1, 0.89073, 1.2064, 1.0747, 1.2064, 1.0747, 1, 0.891, 1, 1, 1.2132, 1.2132, 1.2132, 1, 1, 1.0769, 1, 1, 0.88563, 1.2101, 1.2101, 1, 1.2101, 1.0778, 1, 1, 1.2101, 1.0778, 0.88563, 1, 1.0773, 0.88625, 1, 1, 0.88625, 1, 1.2158, 1, 1, 1.2158, 0.89045, 1, 0.89045, 1, 1.0773, 1.0773, 1.0773, 0.89045, 0.89045, 1.0773, 1.2158, 1.2158, 1.0773, 0.89045, 1, 1, 1.2158, 0.89045, 1.0773, 0.89045, 1.0773, 1.0773, 1.2158, 1, 1.0772, 1, 1, 1, 0.888, 1, 1, 1.0772, 1.2152, 0.888, 1, 1, 1.0789, 1.2143, 1, 1, 1, 1.0789, 1, 1.0789, 1, 1, 1, 1, 1.2114, 1.0759, 1.2091, 1, 1, 1.0783, 0.88603, 1.2091, 1, 1.2091, 1.0783, 1, 1.2136, 1, 1, 1, 1, 0.88383, 0.88383, 1, 1.2136, 0.88383, 1.2136, 1.0798, 1.0798, 1.0798, 1.0798, 1, 1.0798, 0.88383, 1.2136, 1.0798, 0.88383, 1, 0.88383, 1.0798, 1.0798, 1.2136, 1.2136, 1.0798, 1.0798, 0.88383, 1.0798, 1.0798, 0.88383, 1, 0.88383, 1, 1.2136, 1.2136, 1.2084, 0.882, 1.0808, 1.0808, 1, 1.2044, 1, 1.0808, 0.88075, 0.88075, 1, 1, 1.0804, 1.2017, 1.0804, 1.2017, 1, 1, 1.2017, 1.0804, 0.88145, 1.0818, 1.1996, 1, 1, 1.0818, 1.1996, 1, 1.1996, 1.1996, 0.87693, 1.1983, 1, 1.1983, 1.1983, 1.1983, 0.87538, 1, 1.1983, 1, 1.1983, 0.87538, 1.0825, 1.1983, 1, 1, 1, 1.0825, 1, 1.1983, 1.0825, 0.87538, 1, 0.87538, 0.87538, 0.87538, 1.0825, 1.0825, 1.0825, 1.0825, 1.1983, 0.87833, 1.2025, 1.2025, 1, 1.0842, 1, 1.0842, 1, 1.2104, 1.0817, 1, 0.87828, 0.87828, 1, 1, 1.2127, 1.0805, 0.8765, 0.8765, 0.8765, 0.8765, 1.0802, 1.2147, 1, 1.0802, 1.0802, 1.2147, 1.0802, 1, 1, 1, 1.2108, 1, 1, 1.0803, 1.0803, 1.0803, 1.2108, 1, 1.2108, 1.0803, 0.87753, 1.2108, 1.0803, 1, 1.0803, 1.2108, 1.0803, 1, 1, 1, 1.0803, 0.87753, 1, 1.2108, 1.2108, 1.0803, 1, 1, 0.87753, 0.87225, 1, 0.87225, 1.0802, 1.2129, 0.87225, 1, 1.08, 1.08, 1.2143, 1.2143, 1.08, 1.2143, 0.8696, 0.8696, 1.0806, 0.8696, 1.0806, 1, 0.8696, 0.8696, 1.0829, 0.8654, 1.2084, 1, 0.8654, 1.2084, 1.2139, 1.2139, 0.86508, 0.86508, 1.0851, 1.2139, 1, 1.0851, 1, 1, 1.0851, 0.86508, 1.2139, 1.0851, 1.2139, 1.2139, 0.86508, 1.0851, 1.0851, 0.86508, 1.0851, 0.86508, 1.0851, 1.0888, 0.8653, 1.2143, 1, 1.0946, 1, 1.0946, 1.0946, 1.0946, 1.0946, 1.2143, 1, 1.1029, 1, 1.1029, 1.1029, 1.1029, 1, 0.86408, 1.0986, 1, 1, 1.0986, 1, 1.2121, 1, 0.87053, 1.2121, 1.2121, 1, 1, 1, 0.87053, 1, 1, 1.0986, 1, 1, 1, 1.0986, 0.87053, 1.2121, 1.2121, 0.87053, 1.2121, 1.0986, 1.0986, 1.0986, 1.0986, 1.0986, 1.2121, 1, 1.0986, 1, 1.0986, 0.87053, 1.0986, 0.87053, 1, 1, 1.0986, 1.2121, 1.2121, 1, 1, 1.2121, 1, 1.2121, 1, 0.87053, 1, 1, 1.0986, 0.87053, 1.0986, 1.0986, 1.2121, 1.0986, 1.0986, 0.87053, 1.0986, 1.0986, 1.2121, 1.2121, 0.87053, 1.225, 1.225, 1.2163, 1.0772, 1, 1.2108, 1, 1, 1.0798, 1, 1.2225, 1.2104, 1.2143, 1.2146, 1.2146, 1.1076, 1, 0.888, 1, 1, 1, 1, 0.88383, 0.8765, 1, 1.0805, 0.8765, 0.8765, 1, 1.2127, 0.87755, 1, 1, 1, 1.0851, 0.8603, 1.0986, 1.2163, 1.077, 1, 1, 1.2017, 0.87538, 0.87538, 0.87755, 1.2143, 1.0851, 1, 1.1076, 1, 1.0789, 1, 1.2271, 1.2271, 1.2271, 1.0802, 1, 1.2296, 0.90333, 1.2338, 1.0833, 1.2276, 1.2276, 1, 1.0833, 1.0833, 1, 1, 1.225, 1.225, 1, 1.0827, 0.90128, 1, 0.90128, 0.90128, 1.225, 1.0827, 1, 1.225, 1.225, 0.90235, 1.0838, 1, 0.90235, 1, 1.2161, 0.8944, 1.0812, 1, 1.0812, 0.8944, 1.2161, 1, 1.0812, 1.0812, 0.88983, 1.2166, 1, 0.88983, 1.0812, 1, 0.88983, 1.2166, 1.2166, 0.88983, 1.0812, 1.2166, 1.0805, 1.0805, 0.88943, 1, 1, 1.2124, 1.2124, 1.077, 1.077, 1, 1, 1.077, 0.88998, 1, 1.2123, 1.2123, 1, 1, 0.88998, 1, 1, 1, 1, 1.077, 1.2123, 1.2123, 0.88998, 1.077, 0.88998, 1.077, 1.077, 1.2123, 1.2123, 1.077, 1.077, 1, 1.077, 0.88998, 0.88998, 0.88998, 1, 0.88998, 1.077, 0.88998, 1.2123, 1, 1.2064, 1.2064, 0.89073, 0.89073, 1, 1.0747, 1.2064, 0.891, 1.2132, 1.0769, 0.891, 1.2132, 0.891, 0.891, 1.2132, 1.0769, 1.2132, 1.2132, 1.0769, 1.0769, 1.2132, 0.891, 1.2132, 1.0769, 0.891, 0.891, 1.0769, 0.88563, 1.0778, 1, 1.2101, 1.2101, 0.88563, 1.0778, 1.2101, 1, 1.2101, 0.88563, 1.2101, 1, 1, 1.2158, 1, 1.0773, 1.0773, 1.2158, 0.88625, 1, 1.0773, 1.2158, 0.88625, 0.88625, 1.0773, 1.0773, 1.0773, 1.2158, 1.2158, 1, 1, 1, 1, 0.89045, 1, 1.2158, 0.89045, 1.2158, 0.89045, 1.2158, 1.2158, 1.0773, 0.89045, 0.89045, 0.89045, 1.0773, 0.89045, 1.0773, 1.0773, 1.2158, 0.89045, 1.2158, 0.89045, 1, 1.2158, 1.2158, 1.2158, 1.2158, 1, 1.0773, 1.0773, 1, 1, 1, 1.0773, 0.89045, 1, 1, 0.89045, 1, 0.888, 1.0772, 1, 1.2143, 1.2143, 1.2143, 0.88698, 1.0789, 1.2143, 1.0789, 1.0759, 1, 1.0759, 0.88395, 0.88395, 1, 1.0759, 1, 1.0759, 1, 1, 1.0759, 1, 1.0759, 1.0759, 1, 1, 0.88395, 1.2114, 1.0759, 1.0783, 1.0783, 1.2091, 1, 1, 1.2091, 0.88603, 1, 1, 1, 1.0783, 1.0783, 1, 1.0783, 1.0783, 1, 0.88603, 1.0783, 0.88603, 1.0783, 0.88383, 1, 1.2136, 1.2136, 1.2136, 1.0798, 0.88383, 1.0798, 0.88383, 1, 1, 1, 1.2136, 0.88383, 1.0798, 1.2136, 1.0798, 1.0798, 1.0798, 1, 1.0798, 0.88383, 0.88383, 0.88383, 0.88383, 0.88383, 0.88383, 1, 0.88383, 1.0798, 1.0798, 1, 0.88383, 1, 1, 0.882, 0.882, 1.0816, 1, 1.2084, 0.882, 1, 1, 1.2044, 1.0808, 0.88075, 0.88075, 1.0808, 0.88075, 1.0808, 1.0804, 0.88145, 0.88145, 1.0804, 1.0804, 1.2017, 1.2017, 1, 1, 1.0818, 1.0818, 1.1996, 1.1996, 1.0818, 1, 1.1996, 1, 1.0818, 1.1996, 1, 1.0818, 1.0825, 1.0825, 1.1983, 1, 1.1983, 1.1983, 1, 1, 1.0825, 1.1983, 1.1983, 1.0825, 1, 1, 1, 0.87538, 1.0825, 1.0825, 1.1983, 1.0825, 0.87538, 0.87538, 1.1983, 0.87538, 1, 1.0825, 1, 1.1983, 1, 1.2025, 1, 1.2025, 1.0842, 1, 1, 0.87833, 1.0842, 1, 1.2025, 1, 0.87828, 1.2104, 0.87828, 1.2104, 1.0817, 1.2104, 1, 1.2127, 0.8765, 1.0805, 1, 0.8765, 0.8765, 0.8765, 1.2147, 0.87755, 0.87755, 1.2147, 1.0802, 1, 0.87755, 0.87755, 1, 1, 1.2147, 1, 0.87753, 0.87753, 1.2108, 0.87753, 0.87753, 1.0803, 0.87753, 1, 1.2108, 1.2108, 1.0803, 1.0803, 1, 1, 1.0803, 1.0803, 1.2108, 1.0803, 1, 0.87753, 1.0803, 1.0803, 1.0803, 1, 0.87753, 1.2108, 1, 1, 1, 1.2108, 0.87753, 0.87753, 1.2108, 1.0803, 1, 1.2108, 1, 1.0803, 0.87753, 0.87753, 1, 1.2108, 1, 1, 0.87753, 1.2108, 0.87753, 1.0803, 0.87753, 1.0803, 1, 0.87225, 1.2129, 1, 1.0802, 1, 1.0802, 1, 0.87225, 0.87225, 0.87225, 1.0802, 1.0802, 0.87333, 1.08, 1.2143, 0.87333, 0.87333, 0.87333, 1.08, 1.08, 1, 1.08, 1.2143, 1.2143, 1, 1, 1.2143, 1, 1.2143, 0.87333, 0.8696, 1.0806, 1, 1.0806, 1.0806, 1.206, 1.0806, 1.0806, 0.8696, 1.0806, 0.8696, 0.8696, 1.0829, 1.0829, 1.0829, 1, 0.8654, 0.8654, 1, 0.86508, 1.0851, 1, 1.2139, 1, 1.2139, 1.0851, 1.0851, 0.86508, 1.0851, 0.86508, 1.0851, 1.0851, 0.86508, 1.0851, 1.2139, 1, 1.0851, 1.2139, 1.0851, 0.86508, 1.0851, 1, 1, 1, 0.86508, 0.86508, 1, 1, 1, 0.86508, 0.86508, 1.0851, 1.2139, 1, 0.86508, 1, 1, 1.0851, 0.86508, 1.2139, 0.86508, 1.2139, 1, 0.86508, 1, 1.0851, 1.0851, 0.86508, 1.0851, 0.86508, 0.86508, 0.86508, 1.0851, 1, 1.0888, 1.2133, 1, 1.0888, 0.8653, 1, 1.2133, 1.2133, 1.2133, 1, 1.2133, 0.86308, 1.0946, 1, 1, 1, 1.0946, 1, 1.0946, 1, 1.2143, 0.86308, 0.86308, 1, 1, 1.0946, 1, 1, 1, 1.2146, 1.1029, 1, 1.1029, 1, 0.8603, 0.8603, 1.2146, 0.8603, 1, 1.1029, 0.8603, 1, 1.1029, 1, 1.2225, 1, 0.86408, 1, 1.1076, 1.1076, 1.1076, 1.2225, 1.1076, 1.2225, 0.86408, 1.2225, 0.86408, 1.2225, 1.2225, 1, 1.2225, 1.1076, 1, 1, 1.1076, 0.86408, 1.1076, 1, 1.2225, 1, 1, 1.0986, 1, 1.0986, 1.2121, 1.0986, 1.2121, 1.2121, 1.0986, 1, 1.0986, 1, 1.0986, 0.87053, 1.0986, 0.87053, 1.0986, 1.0986, 1, 1.0986, 1, 1.0986, 1.2121, 1, 1.0986, 1.0986, 1, 1, 0.87053, 1.0986, 1, 1.0986, 1.2121, 0.87053, 1, 1.0986, 1, 0.87053, 0.87053, 1.2121, 1, 1, 1.0986, 1.2121, 1.0986, 1, 1.2121, 1, 1.0825, 1.0825, 1, 0.88998, 1.077, 1.2123, 1.0773, 1, 1.0842, 1, 1.2271, 1.2271, 1, 1.0827, 1.077, 1, 1, 1.0803, 1.08, 1, 0.89903, 1.2271, 1.0802, 1, 1, 1, 1, 1, 1.2271, 1.2271, 1.0821, 1, 0.9019, 1, 0.9019, 0.9019, 0.9019, 1.2276, 1.0827, 1, 1.0827, 1, 1, 1, 1.0827, 1.0827, 1.0827, 1, 1.0838, 0.90235, 1, 1.2161, 1.2161, 0.8944, 1, 1.0812, 1.2161, 0.88983, 0.88983, 1.2166, 0.88983, 1.2166, 1, 1.0805, 0.88943, 0.88943, 1, 1.0805, 0.88943, 1.0805, 1, 1.0805, 1.0805, 1, 1, 1.2123, 1, 1, 1, 1, 1.2123, 1, 1.077, 1.077, 1, 1.2123, 1.2123, 1.2123, 1.2123, 1.2123, 1, 0.89073, 0.89073, 1, 1.0747, 1, 1, 1, 0.891, 0.891, 1, 1.0769, 1.2132, 1.0769, 1.0769, 1.2132, 1, 1.0778, 1.0778, 1, 1, 1.2101, 1.0778, 1.0778, 1.2101, 1.0778, 1.2101, 1, 1, 1.2158, 0.88625, 1.2158, 0.88625, 0.88625, 1.2158, 1.0773, 1, 0.88625, 1.2158, 1, 0.89045, 0.89045, 0.89045, 0.89045, 1, 1.0773, 1.0773, 1.2158, 0.89045, 0.89045, 0.89045, 1.0773, 0.89045, 1, 1.2158, 1.2158, 1.2158, 1.0773, 1.2158, 1.2158, 1.2158, 1.2158, 0.89045, 1, 1.2158, 1.2158, 1, 1, 1.2158, 1, 1.0773, 1.2158, 0.888, 0.888, 0.888, 1.2152, 1.2152, 1.0789, 1.0789, 1.0789, 0.88698, 1.2143, 1.2143, 1.0789, 1.2143, 1, 1, 0.88395, 0.88395, 1, 1.0759, 1, 1, 1.2114, 0.88603, 1, 1.0783, 1.2091, 1, 0.88603, 1, 1.2136, 0.88383, 1.2136, 0.88383, 1, 1, 1.2136, 1, 0.88383, 1, 1, 0.88383, 1.2136, 1.2136, 1, 0.88383, 1, 0.88383, 1.0798, 0.88383, 1.2136, 1, 1.2136, 1.2136, 1.2136, 1.2136, 1.2136, 1.2084, 1.0816, 1.0816, 0.882, 1.2084, 0.882, 1.2084, 1.2084, 1.2084, 0.882, 1, 1, 1.2044, 1, 1.2044, 1.0808, 0.88075, 1, 1.0804, 1.2017, 0.88145, 1.2017, 1.0804, 1.2017, 1.0804, 1.0804, 1, 1.0804, 1.2017, 1, 1.1996, 1.1996, 1, 1.0818, 1.1996, 1.1983, 1.0825, 0.87538, 0.87538, 1.1983, 1, 1.0825, 1, 1.1983, 1.1983, 1.0825, 1, 1.1983, 1.0825, 1.0825, 1.1983, 0.87538, 1.1983, 1.1983, 1.1983, 0.87538, 1, 1.0825, 1.0825, 1.0825, 0.87538, 1, 1.1983, 1.0825, 0.87538, 1.1983, 1.1983, 1.1983, 1.0825, 1, 0.87833, 0.87833, 0.87833, 1.2025, 0.87833, 1, 1, 0.87828, 1.2104, 1.0817, 1, 1.0817, 0.87828, 1.2104, 1.0817, 1.0817, 0.87828, 1.2104, 0.87828, 1.2127, 1.0805, 1, 1.0805, 1.0805, 1.2127, 0.8765, 1.0805, 1.2127, 1, 1, 1.2147, 1.0802, 1, 1.0802, 1.2147, 1.2147, 1, 1.0802, 1.0803, 0.87753, 0.87753, 1, 0.87753, 1.0803, 1, 1, 1.2108, 0.87753, 0.87753, 1.2108, 1, 0.87753, 0.87753, 1.2108, 0.87753, 1, 1, 1, 0.87753, 1.2108, 1, 1.0803, 0.87753, 1.2108, 0.87753, 0.87753, 1.2108, 1.0803, 1, 1.0803, 1.0803, 0.87753, 0.87753, 1, 1, 1, 1.2108, 1, 1, 1.0803, 1, 1.2108, 1.2129, 1.2129, 1.0802, 1.0802, 0.87225, 1.0802, 1, 1, 1.2129, 1.2129, 1, 1.2129, 1.0802, 1.2129, 1.0802, 1.2129, 1.2129, 1, 1.2143, 1.2143, 1, 1.08, 1.08, 0.87333, 1.2143, 1.08, 1, 1.08, 1.2143, 0.87333, 1.08, 1.2143, 0.87333, 0.87333, 0.87333, 0.8696, 0.8696, 1.206, 1.206, 1, 0.8696, 1.0806, 1.0806, 1.206, 1.206, 0.8696, 1.0806, 1, 1.206, 1.0806, 1, 1, 1, 1.0806, 1.206, 1, 1.0829, 1.0829, 0.8654, 1, 1, 1.2084, 1, 1, 1.2084, 1.0829, 0.86508, 1.2139, 1.0851, 1.0851, 1, 0.86508, 1.0851, 1.2139, 1, 1.2139, 1.2139, 1.2139, 1.2139, 1, 1.2139, 1.0851, 1.0851, 1, 1.2139, 1, 1.2139, 1.0851, 1.2139, 1.0851, 1.2139, 0.86508, 1, 0.86508, 0.86508, 1.2139, 1.0851, 1.0851, 0.86508, 1.0851, 1, 1.2139, 1, 1.2139, 0.86508, 1.0851, 1.0851, 1, 1, 1, 1, 1, 0.8653, 1.0888, 1.0888, 1, 1.2133, 0.8653, 1, 0.8653, 1.2133, 1.0888, 1.0946, 1.2143, 0.86308, 0.86308, 1, 0.86308, 1.0946, 1.2143, 1.2143, 1.0946, 0.86308, 1, 1, 0.86308, 1.2143, 1, 1.1029, 1.1029, 1.1029, 1, 1, 1, 1, 1.1029, 1.2146, 1.1029, 0.8603, 0.8603, 1, 1, 1.1029, 1.1029, 1.1029, 1.1029, 0.8603, 1.2146, 1.1076, 0.86408, 1.1076, 1.1076, 0.86408, 1.1076, 1.2225, 1.2225, 1, 1.2225, 1, 1, 1.1076, 1.2225, 1.2121, 0.87053, 0.87053, 1.2121, 1.0986, 1.0986, 1.2121, 1, 1.0986, 1.2121, 1.0986, 1, 1.0986, 1, 1.0986, 1.0986, 1.0986, 1, 1.2121, 1, 1.0986, 1.2121, 1, 1, 1, 1, 1, 0.87053, 1.2121, 0.87053, 1.0986, 1, 1.0986, 1.2121, 1.2121, 1.0986, 1, 0.87053, 0.87053, 1.2121, 0.87053, 0.87053, 1, 1.0986, 1, 1.2121, 1.0986, 1, 1, 0.87053, 1.0986, 1, 1.0986, 1.0986, 0.87053, 1, 0.87333, 1, 1, 1.1983, 0.9016, 1, 1, 1.077, 1, 1.2123, 1.077, 1.0825, 1.1076, 1.0986]\n"
     ]
    }
   ],
   "source": [
    "ratios = []\n",
    "for i in range(len(purchases)):\n",
    "    if purchases['currency'][i]=='EUR':\n",
    "        b = 1\n",
    "    else:\n",
    "        ratio = rq.get('https://api.exchangeratesapi.io/' + str(purchases['datetime'][i]).split(' ')[0] + '?symbols=' + purchases['currency'][i])\n",
    "        a = ratio.json()\n",
    "        b = a['rates'][purchases['currency'][i]]\n",
    "    ratios.append(b)\n",
    "print(ratios)"
   ]
  },
  {
   "cell_type": "code",
   "execution_count": 22,
   "metadata": {},
   "outputs": [
    {
     "name": "stdout",
     "output_type": "stream",
     "text": [
      "                datetime  game_basic_level ip_country  order_amount_gross  \\\n",
      "0    2021-01-24 04:05:34                 7         CL           35.446176   \n",
      "1    2021-01-24 06:00:35                 9         CL            6.569976   \n",
      "2    2021-01-24 07:04:58                10         CL           29.010654   \n",
      "3    2021-01-25 04:28:21                12         CL           10.685374   \n",
      "4    2021-01-25 04:43:59                12         CL            5.367659   \n",
      "...                  ...               ...        ...                 ...   \n",
      "2856 2021-01-17 22:48:13                10         VE           22.575198   \n",
      "2857 2021-01-17 23:13:31                10         VE            6.028233   \n",
      "2858 2021-02-05 13:03:47                 8         ID           33.966516   \n",
      "2859 2021-02-25 13:55:32                 7         AU           38.008819   \n",
      "2860 2021-02-27 00:23:41                 8         AU           33.459975   \n",
      "\n",
      "     order_payment_provider  order_transaction_id platform  \\\n",
      "0                    Itunes            1184529158      ios   \n",
      "1                    Itunes             774979105      ios   \n",
      "2                    Itunes            7793447456      ios   \n",
      "3                    Itunes            3111804466      ios   \n",
      "4                    Itunes            4652947566      ios   \n",
      "...                     ...                   ...      ...   \n",
      "2856                 Itunes            9465335020      ios   \n",
      "2857                 Itunes            5453471344      ios   \n",
      "2858             GooglePlay            7487755476  android   \n",
      "2859             GooglePlay            3429525576  android   \n",
      "2860             GooglePlay            9099537065  android   \n",
      "\n",
      "                   user_id            version app_code      app_name currency  \\\n",
      "0     23zBzzPT2thJHJb4ZMwl  1.17.4-1804792971       st  Slow Traffic      EUR   \n",
      "1     23zBzzPT2thJHJb4ZMwl  1.17.4-1804792971       st  Slow Traffic      CHF   \n",
      "2     23zBzzPT2thJHJb4ZMwl  1.17.4-1804792971       st  Slow Traffic      USD   \n",
      "3     23zBzzPT2thJHJb4ZMwl  1.17.4-1804792971       st  Slow Traffic      USD   \n",
      "4     23zBzzPT2thJHJb4ZMwl  1.17.4-1804792971       st  Slow Traffic      GBP   \n",
      "...                    ...                ...      ...           ...      ...   \n",
      "2856  0LocGHQTQP7NngKsIqSz   2.6.1-1804789113       dd   Dark Diving      USD   \n",
      "2857  0LocGHQTQP7NngKsIqSz   2.6.1-1804789113       dd   Dark Diving      CHF   \n",
      "2858  rcRU3r0I22OyEFYAK5XS   2.7.0-1804792974       dd   Dark Diving      CHF   \n",
      "2859  jhAUkMKU0vJTLGzfZ6Ij   2.7.0-1804792974       dd   Dark Diving      CHF   \n",
      "2860  jhAUkMKU0vJTLGzfZ6Ij   2.7.0-1804792974       dd   Dark Diving      CHF   \n",
      "\n",
      "      ratios  \n",
      "0     1.0000  \n",
      "1     1.0773  \n",
      "2     1.2158  \n",
      "3     1.2152  \n",
      "4     0.8880  \n",
      "...      ...  \n",
      "2856  1.2123  \n",
      "2857  1.0770  \n",
      "2858  1.0825  \n",
      "2859  1.1076  \n",
      "2860  1.0986  \n",
      "\n",
      "[2861 rows x 13 columns]\n"
     ]
    }
   ],
   "source": [
    "purchases['ratios'] = ratios\n",
    "print(purchases)"
   ]
  },
  {
   "cell_type": "code",
   "execution_count": 23,
   "metadata": {},
   "outputs": [
    {
     "name": "stdout",
     "output_type": "stream",
     "text": [
      "                datetime  game_basic_level ip_country  order_amount_gross  \\\n",
      "0    2021-01-24 04:05:34                 7         CL           35.446176   \n",
      "1    2021-01-24 06:00:35                 9         CL            6.569976   \n",
      "2    2021-01-24 07:04:58                10         CL           29.010654   \n",
      "3    2021-01-25 04:28:21                12         CL           10.685374   \n",
      "4    2021-01-25 04:43:59                12         CL            5.367659   \n",
      "...                  ...               ...        ...                 ...   \n",
      "2856 2021-01-17 22:48:13                10         VE           22.575198   \n",
      "2857 2021-01-17 23:13:31                10         VE            6.028233   \n",
      "2858 2021-02-05 13:03:47                 8         ID           33.966516   \n",
      "2859 2021-02-25 13:55:32                 7         AU           38.008819   \n",
      "2860 2021-02-27 00:23:41                 8         AU           33.459975   \n",
      "\n",
      "     order_payment_provider  order_transaction_id platform  \\\n",
      "0                    Itunes            1184529158      ios   \n",
      "1                    Itunes             774979105      ios   \n",
      "2                    Itunes            7793447456      ios   \n",
      "3                    Itunes            3111804466      ios   \n",
      "4                    Itunes            4652947566      ios   \n",
      "...                     ...                   ...      ...   \n",
      "2856                 Itunes            9465335020      ios   \n",
      "2857                 Itunes            5453471344      ios   \n",
      "2858             GooglePlay            7487755476  android   \n",
      "2859             GooglePlay            3429525576  android   \n",
      "2860             GooglePlay            9099537065  android   \n",
      "\n",
      "                   user_id            version app_code      app_name currency  \\\n",
      "0     23zBzzPT2thJHJb4ZMwl  1.17.4-1804792971       st  Slow Traffic      EUR   \n",
      "1     23zBzzPT2thJHJb4ZMwl  1.17.4-1804792971       st  Slow Traffic      CHF   \n",
      "2     23zBzzPT2thJHJb4ZMwl  1.17.4-1804792971       st  Slow Traffic      USD   \n",
      "3     23zBzzPT2thJHJb4ZMwl  1.17.4-1804792971       st  Slow Traffic      USD   \n",
      "4     23zBzzPT2thJHJb4ZMwl  1.17.4-1804792971       st  Slow Traffic      GBP   \n",
      "...                    ...                ...      ...           ...      ...   \n",
      "2856  0LocGHQTQP7NngKsIqSz   2.6.1-1804789113       dd   Dark Diving      USD   \n",
      "2857  0LocGHQTQP7NngKsIqSz   2.6.1-1804789113       dd   Dark Diving      CHF   \n",
      "2858  rcRU3r0I22OyEFYAK5XS   2.7.0-1804792974       dd   Dark Diving      CHF   \n",
      "2859  jhAUkMKU0vJTLGzfZ6Ij   2.7.0-1804792974       dd   Dark Diving      CHF   \n",
      "2860  jhAUkMKU0vJTLGzfZ6Ij   2.7.0-1804792974       dd   Dark Diving      CHF   \n",
      "\n",
      "      ratios  order_amount_gross_in_EUR  \n",
      "0     1.0000                  35.446176  \n",
      "1     1.0773                   6.098557  \n",
      "2     1.2158                  23.861370  \n",
      "3     1.2152                   8.793099  \n",
      "4     0.8880                   6.044661  \n",
      "...      ...                        ...  \n",
      "2856  1.2123                  18.621791  \n",
      "2857  1.0770                   5.597246  \n",
      "2858  1.0825                  31.377844  \n",
      "2859  1.1076                  34.316377  \n",
      "2860  1.0986                  30.456922  \n",
      "\n",
      "[2861 rows x 14 columns]\n"
     ]
    }
   ],
   "source": [
    "purchases['order_amount_gross_in_EUR'] = purchases['order_amount_gross']/purchases['ratios']\n",
    "print(purchases)"
   ]
  },
  {
   "cell_type": "markdown",
   "metadata": {},
   "source": [
    "# Obtener metricas solicitadas"
   ]
  },
  {
   "cell_type": "markdown",
   "metadata": {},
   "source": [
    "<b> Volumen total de ingresos generados"
   ]
  },
  {
   "cell_type": "code",
   "execution_count": 24,
   "metadata": {},
   "outputs": [
    {
     "name": "stdout",
     "output_type": "stream",
     "text": [
      "Volumen total de ingresos generados es de € 72530.946\n"
     ]
    }
   ],
   "source": [
    "VolumenTotalIngresos = purchases['order_amount_gross_in_EUR'].sum()\n",
    "print('Volumen total de ingresos generados es de €',round(VolumenTotalIngresos,3))"
   ]
  },
  {
   "cell_type": "markdown",
   "metadata": {},
   "source": [
    "<b> Número total de pagos"
   ]
  },
  {
   "cell_type": "code",
   "execution_count": 25,
   "metadata": {},
   "outputs": [
    {
     "name": "stdout",
     "output_type": "stream",
     "text": [
      "Número total de pagos es de 2861\n"
     ]
    }
   ],
   "source": [
    "NumeroTotalPagos = purchases['order_amount_gross_in_EUR'].count()\n",
    "print('Número total de pagos es de',NumeroTotalPagos)"
   ]
  },
  {
   "cell_type": "markdown",
   "metadata": {},
   "source": [
    "<b> Número total de jugadores"
   ]
  },
  {
   "cell_type": "code",
   "execution_count": 26,
   "metadata": {},
   "outputs": [
    {
     "name": "stdout",
     "output_type": "stream",
     "text": [
      "Número total de jugadores 102941\n"
     ]
    }
   ],
   "source": [
    "NumeroTotalPlayers = newusers['user_id'].nunique()\n",
    "print('Número total de jugadores',NumeroTotalPlayers)"
   ]
  },
  {
   "cell_type": "markdown",
   "metadata": {},
   "source": [
    "<b> Número total de jugadores que han realizado alguna compra"
   ]
  },
  {
   "cell_type": "code",
   "execution_count": 27,
   "metadata": {},
   "outputs": [
    {
     "name": "stdout",
     "output_type": "stream",
     "text": [
      "Número total de jugadores que han realizado alguna compra es de 699\n"
     ]
    }
   ],
   "source": [
    "NumeroTotalPlayersBuyers = purchases['user_id'].nunique()\n",
    "print('Número total de jugadores que han realizado alguna compra es de',NumeroTotalPlayersBuyers)"
   ]
  },
  {
   "cell_type": "markdown",
   "metadata": {},
   "source": [
    "<b> Promedio de ingresos generados por jugador"
   ]
  },
  {
   "cell_type": "code",
   "execution_count": 28,
   "metadata": {},
   "outputs": [
    {
     "name": "stdout",
     "output_type": "stream",
     "text": [
      "€ 0.7045875402521005\n"
     ]
    }
   ],
   "source": [
    "PromedioIngresosPorPlayer = VolumenTotalIngresos/NumeroTotalPlayers\n",
    "print('€',PromedioIngresosPorPlayer)"
   ]
  },
  {
   "cell_type": "markdown",
   "metadata": {},
   "source": [
    "<b> Promedio de pagos por jugador"
   ]
  },
  {
   "cell_type": "code",
   "execution_count": 29,
   "metadata": {},
   "outputs": [
    {
     "name": "stdout",
     "output_type": "stream",
     "text": [
      "Promedio de pagos por jugador es de 0.0278\n"
     ]
    }
   ],
   "source": [
    "TotalPagos = purchases['order_transaction_id'].nunique()\n",
    "PromedioPagosXPlayers = TotalPagos/NumeroTotalPlayers\n",
    "print('Promedio de pagos por jugador es de',round(PromedioPagosXPlayers,4))"
   ]
  },
  {
   "cell_type": "markdown",
   "metadata": {},
   "source": [
    "<b> Promedio de ingresos por comprador (jugadores que hayan realizado al menos\n",
    "una compra) agrupado por el país desde el que se registraron."
   ]
  },
  {
   "cell_type": "code",
   "execution_count": 37,
   "metadata": {},
   "outputs": [
    {
     "name": "stdout",
     "output_type": "stream",
     "text": [
      "Promedio de ingresos por comprador agrupado por el país desde el que se registraron es\n",
      "ip_country\n",
      "AR    29.753230\n",
      "AU    26.226561\n",
      "BN    17.995454\n",
      "BR    28.201268\n",
      "CL    23.556350\n",
      "CO    57.357492\n",
      "CR    17.302790\n",
      "GA     3.855741\n",
      "GF    36.157822\n",
      "GH    25.109070\n",
      "ID    35.388869\n",
      "LK    11.038784\n",
      "LR    19.664330\n",
      "MQ    11.882223\n",
      "MV     8.681378\n",
      "MY    30.275891\n",
      "MZ    14.566634\n",
      "NG    13.486017\n",
      "NZ    20.042938\n",
      "PA    69.249227\n",
      "PF     7.730589\n",
      "PH     9.290955\n",
      "PY     8.448877\n",
      "VE    23.497854\n",
      "VN     7.521299\n",
      "ZA    18.081017\n",
      "ZW    40.448744\n",
      "Name: order_amount_gross_in_EUR, dtype: float64\n"
     ]
    }
   ],
   "source": [
    "PromedioIngresosXBuyersXPais = purchases['order_amount_gross_in_EUR'].groupby(purchases['ip_country']).mean()\n",
    "print('Promedio de ingresos por comprador agrupado por el país desde el que se registraron es')\n",
    "print(PromedioIngresosXBuyersXPais)"
   ]
  },
  {
   "cell_type": "markdown",
   "metadata": {},
   "source": [
    "<b> Ingresos totales por día de registro. Únicamente para aquellos usuarios\n",
    "registrados en febrero de 2021."
   ]
  },
  {
   "cell_type": "code",
   "execution_count": 31,
   "metadata": {},
   "outputs": [
    {
     "name": "stdout",
     "output_type": "stream",
     "text": [
      "          Fecha               user_id   ingresos\n",
      "0    2021-02-07  boxkcx7vER3ZQhpYYuah  53.543271\n",
      "1    2021-02-07  boxkcx7vER3ZQhpYYuah  15.673896\n",
      "2    2021-02-17  FVYnZC1SHdffBzfgowtF  20.156926\n",
      "3    2021-02-28  XdT3YB9GYIuuULtsangz  29.033779\n",
      "4    2021-02-16  bZmXdSwILwOYuk3m4egi  58.200744\n",
      "..          ...                   ...        ...\n",
      "141  2021-02-24  SwkEz8u5j5nK9bwGSb1R  57.152298\n",
      "142  2021-02-24  SwkEz8u5j5nK9bwGSb1R  28.385011\n",
      "143  2021-02-26  KthoLCUTfjS41YHC8PPP   2.569758\n",
      "144  2021-02-28  Onw81nTHwnaR9sWfmSrx  25.119111\n",
      "145  2021-02-05  rcRU3r0I22OyEFYAK5XS  31.377844\n",
      "\n",
      "[146 rows x 3 columns]\n"
     ]
    }
   ],
   "source": [
    "def ingtot():\n",
    "    uid = [] # Usuarios registrados en febrero del 2021\n",
    "    date = [] # Fecha en la que se inscribieron esos usuarios\n",
    "    for i in range(len(newusers)): # Busca en el DataFrame \"newusers\" la fecha de registro y el ID de los usuarios\n",
    "        if newusers['datetime'][i]> datetime.strptime('2021-02-01', '%Y-%m-%d') and newusers['datetime'][i]< datetime.strptime('2021-03-01', '%Y-%m-%d'):\n",
    "            uid.append(newusers['user_id'][i])\n",
    "            date.append(str(newusers['datetime'][i]).split(' ')[0])\n",
    "        else:\n",
    "            pass\n",
    "    df = pd.DataFrame(list(zip(date,uid)), columns = ['Fecha','user_id']) # Se genera un DataFrame con las listas anteriores\n",
    "    date1 = []\n",
    "    ing = []\n",
    "    userbuy = []\n",
    "    for e in range(len(purchases)): # Se busca las compras realizadas por los usuario de febrero en el dia que ingresaron como usuarios\n",
    "        if purchases['user_id'][e] in list(df['user_id']):\n",
    "            if str(purchases['datetime'][e]).split(' ')[0]==str(df[df['user_id']==purchases['user_id'][e]]['Fecha'].any()):\n",
    "                date1.append(str(df[df['user_id']==purchases['user_id'][e]]['Fecha'].any()))\n",
    "                ing.append(purchases['order_amount_gross_in_EUR'][e])\n",
    "                userbuy.append(purchases['user_id'][e])\n",
    "            else:\n",
    "                pass\n",
    "        else:\n",
    "            pass\n",
    "        \n",
    "    df2 = pd.DataFrame(date1, columns = ['Fecha'])\n",
    "    df2['user_id'] = userbuy\n",
    "    df2['ingresos'] = ing\n",
    "    return df2\n",
    "\n",
    "UsuariosconcomprasenFebrero = ingtot()\n",
    "print(UsuariosconcomprasenFebrero)"
   ]
  },
  {
   "cell_type": "code",
   "execution_count": 39,
   "metadata": {},
   "outputs": [
    {
     "name": "stdout",
     "output_type": "stream",
     "text": [
      "Ingresos totales por día de registro para los usuarios registrados en febrero del 2021 fue de\n",
      "              ingresos\n",
      "Fecha                 \n",
      "2021-02-01  129.129592\n",
      "2021-02-02   27.182866\n",
      "2021-02-03   34.865919\n",
      "2021-02-04   69.841508\n",
      "2021-02-05   79.522613\n",
      "2021-02-06  278.408342\n",
      "2021-02-07  148.962124\n",
      "2021-02-08   28.564378\n",
      "2021-02-09   95.026768\n",
      "2021-02-10  101.958470\n",
      "2021-02-11   82.108670\n",
      "2021-02-12   53.847163\n",
      "2021-02-13   15.481143\n",
      "2021-02-14   70.962880\n",
      "2021-02-16  233.777641\n",
      "2021-02-17  114.694719\n",
      "2021-02-18   22.752718\n",
      "2021-02-19  721.299186\n",
      "2021-02-20   43.919684\n",
      "2021-02-21  151.309668\n",
      "2021-02-22  191.647556\n",
      "2021-02-23   80.616251\n",
      "2021-02-24  114.310566\n",
      "2021-02-25    6.460417\n",
      "2021-02-26   69.335928\n",
      "2021-02-27  166.000624\n",
      "2021-02-28  421.954990\n"
     ]
    }
   ],
   "source": [
    "CompraXDiaRegistro = UsuariosconcomprasenFebrero.groupby(UsuariosconcomprasenFebrero['Fecha']).sum()\n",
    "print('Ingresos totales por día de registro para los usuarios registrados en febrero del 2021 fue de')\n",
    "print(CompraXDiaRegistro)"
   ]
  },
  {
   "cell_type": "markdown",
   "metadata": {},
   "source": [
    "# Conclusiones"
   ]
  },
  {
   "cell_type": "markdown",
   "metadata": {},
   "source": [
    "1. Se observa que el dia con mayor consumo por registro de usuario en febrero del 2021 fue el dia 19 de Febrero con €721.3.\n",
    "2. El pais con mayor ingreso por compradores es Panama.\n",
    "3. De un total de 102941 usuarios, solamente 699 son compradores siendo estos el 0.68% del total de usuarios."
   ]
  }
 ],
 "metadata": {
  "kernelspec": {
   "display_name": "Python 3",
   "language": "python",
   "name": "python3"
  },
  "language_info": {
   "codemirror_mode": {
    "name": "ipython",
    "version": 3
   },
   "file_extension": ".py",
   "mimetype": "text/x-python",
   "name": "python",
   "nbconvert_exporter": "python",
   "pygments_lexer": "ipython3",
   "version": "3.8.5"
  }
 },
 "nbformat": 4,
 "nbformat_minor": 4
}
